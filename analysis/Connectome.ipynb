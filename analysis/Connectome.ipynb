{
 "cells": [
  {
   "cell_type": "markdown",
   "metadata": {},
   "source": [
    "# Plot Connectomes"
   ]
  },
  {
   "cell_type": "code",
   "execution_count": 3,
   "metadata": {},
   "outputs": [],
   "source": [
    "import nilearn.plotting as nip\n",
    "import pandas as pd\n",
    "import numpy as np\n",
    "import matplotlib.pyplot as plt\n",
    "import matplotlib.cm as  cm"
   ]
  },
  {
   "cell_type": "markdown",
   "metadata": {},
   "source": [
    "## Load the Power 2011 classification\n",
    "\n",
    "All of the connectomes in this analysis were extacted from the Power 2011 classification. We will start by first loading the corresponding data table."
   ]
  },
  {
   "cell_type": "code",
   "execution_count": 4,
   "metadata": {},
   "outputs": [
    {
     "data": {
      "text/html": [
       "<div>\n",
       "<style scoped>\n",
       "    .dataframe tbody tr th:only-of-type {\n",
       "        vertical-align: middle;\n",
       "    }\n",
       "\n",
       "    .dataframe tbody tr th {\n",
       "        vertical-align: top;\n",
       "    }\n",
       "\n",
       "    .dataframe thead th {\n",
       "        text-align: right;\n",
       "    }\n",
       "</style>\n",
       "<table border=\"1\" class=\"dataframe\">\n",
       "  <thead>\n",
       "    <tr style=\"text-align: right;\">\n",
       "      <th></th>\n",
       "      <th>ROI</th>\n",
       "      <th>X</th>\n",
       "      <th>Y</th>\n",
       "      <th>Z</th>\n",
       "      <th>Network</th>\n",
       "      <th>Color</th>\n",
       "      <th>NetworkName</th>\n",
       "    </tr>\n",
       "  </thead>\n",
       "  <tbody>\n",
       "    <tr>\n",
       "      <th>0</th>\n",
       "      <td>1</td>\n",
       "      <td>-25</td>\n",
       "      <td>-98</td>\n",
       "      <td>-12</td>\n",
       "      <td>-1</td>\n",
       "      <td>White</td>\n",
       "      <td>Uncertain</td>\n",
       "    </tr>\n",
       "    <tr>\n",
       "      <th>1</th>\n",
       "      <td>2</td>\n",
       "      <td>27</td>\n",
       "      <td>-97</td>\n",
       "      <td>-13</td>\n",
       "      <td>-1</td>\n",
       "      <td>White</td>\n",
       "      <td>Uncertain</td>\n",
       "    </tr>\n",
       "    <tr>\n",
       "      <th>2</th>\n",
       "      <td>3</td>\n",
       "      <td>24</td>\n",
       "      <td>32</td>\n",
       "      <td>-18</td>\n",
       "      <td>-1</td>\n",
       "      <td>White</td>\n",
       "      <td>Uncertain</td>\n",
       "    </tr>\n",
       "    <tr>\n",
       "      <th>3</th>\n",
       "      <td>4</td>\n",
       "      <td>-56</td>\n",
       "      <td>-45</td>\n",
       "      <td>-24</td>\n",
       "      <td>-1</td>\n",
       "      <td>White</td>\n",
       "      <td>Uncertain</td>\n",
       "    </tr>\n",
       "    <tr>\n",
       "      <th>4</th>\n",
       "      <td>5</td>\n",
       "      <td>8</td>\n",
       "      <td>41</td>\n",
       "      <td>-24</td>\n",
       "      <td>-1</td>\n",
       "      <td>White</td>\n",
       "      <td>Uncertain</td>\n",
       "    </tr>\n",
       "    <tr>\n",
       "      <th>...</th>\n",
       "      <td>...</td>\n",
       "      <td>...</td>\n",
       "      <td>...</td>\n",
       "      <td>...</td>\n",
       "      <td>...</td>\n",
       "      <td>...</td>\n",
       "      <td>...</td>\n",
       "    </tr>\n",
       "    <tr>\n",
       "      <th>259</th>\n",
       "      <td>260</td>\n",
       "      <td>-27</td>\n",
       "      <td>-71</td>\n",
       "      <td>37</td>\n",
       "      <td>12</td>\n",
       "      <td>Green</td>\n",
       "      <td>Dorsal attention</td>\n",
       "    </tr>\n",
       "    <tr>\n",
       "      <th>260</th>\n",
       "      <td>261</td>\n",
       "      <td>-32</td>\n",
       "      <td>-1</td>\n",
       "      <td>54</td>\n",
       "      <td>12</td>\n",
       "      <td>Green</td>\n",
       "      <td>Dorsal attention</td>\n",
       "    </tr>\n",
       "    <tr>\n",
       "      <th>261</th>\n",
       "      <td>262</td>\n",
       "      <td>-42</td>\n",
       "      <td>-60</td>\n",
       "      <td>-9</td>\n",
       "      <td>12</td>\n",
       "      <td>Green</td>\n",
       "      <td>Dorsal attention</td>\n",
       "    </tr>\n",
       "    <tr>\n",
       "      <th>262</th>\n",
       "      <td>263</td>\n",
       "      <td>-17</td>\n",
       "      <td>-59</td>\n",
       "      <td>64</td>\n",
       "      <td>12</td>\n",
       "      <td>Green</td>\n",
       "      <td>Dorsal attention</td>\n",
       "    </tr>\n",
       "    <tr>\n",
       "      <th>263</th>\n",
       "      <td>264</td>\n",
       "      <td>29</td>\n",
       "      <td>-5</td>\n",
       "      <td>54</td>\n",
       "      <td>12</td>\n",
       "      <td>Green</td>\n",
       "      <td>Dorsal attention</td>\n",
       "    </tr>\n",
       "  </tbody>\n",
       "</table>\n",
       "<p>264 rows × 7 columns</p>\n",
       "</div>"
      ],
      "text/plain": [
       "     ROI   X   Y   Z  Network  Color       NetworkName\n",
       "0      1 -25 -98 -12       -1  White         Uncertain\n",
       "1      2  27 -97 -13       -1  White         Uncertain\n",
       "2      3  24  32 -18       -1  White         Uncertain\n",
       "3      4 -56 -45 -24       -1  White         Uncertain\n",
       "4      5   8  41 -24       -1  White         Uncertain\n",
       "..   ...  ..  ..  ..      ...    ...               ...\n",
       "259  260 -27 -71  37       12  Green  Dorsal attention\n",
       "260  261 -32  -1  54       12  Green  Dorsal attention\n",
       "261  262 -42 -60  -9       12  Green  Dorsal attention\n",
       "262  263 -17 -59  64       12  Green  Dorsal attention\n",
       "263  264  29  -5  54       12  Green  Dorsal attention\n",
       "\n",
       "[264 rows x 7 columns]"
      ]
     },
     "execution_count": 4,
     "metadata": {},
     "output_type": "execute_result"
    }
   ],
   "source": [
    "power2011 = pd.read_csv(\"../rsfmri/bin/power_2011.csv\")\n",
    "power2011 = power2011.iloc[:,0:7]\n",
    "power2011"
   ]
  },
  {
   "cell_type": "markdown",
   "metadata": {},
   "source": [
    "### Visualize the connectome matrix\n",
    "\n",
    "We can visualize the connectome matrix for the 62 participants."
   ]
  },
  {
   "cell_type": "code",
   "execution_count": 5,
   "metadata": {},
   "outputs": [
    {
     "ename": "OSError",
     "evalue": "sub-001/R_py.txt not found.",
     "output_type": "error",
     "traceback": [
      "\u001b[0;31m---------------------------------------------------------------------------\u001b[0m",
      "\u001b[0;31mOSError\u001b[0m                                   Traceback (most recent call last)",
      "\u001b[0;32m<ipython-input-5-ea085506da3e>\u001b[0m in \u001b[0;36m<module>\u001b[0;34m\u001b[0m\n\u001b[1;32m      6\u001b[0m     \u001b[0msubj\u001b[0m \u001b[0;34m=\u001b[0m \u001b[0;34m\"sub-%03d\"\u001b[0m \u001b[0;34m%\u001b[0m \u001b[0;34m(\u001b[0m\u001b[0mii\u001b[0m\u001b[0;34m,\u001b[0m\u001b[0;34m)\u001b[0m\u001b[0;34m\u001b[0m\u001b[0;34m\u001b[0m\u001b[0m\n\u001b[1;32m      7\u001b[0m     \u001b[0;32mif\u001b[0m \u001b[0mii\u001b[0m \u001b[0;34m!=\u001b[0m \u001b[0;36m8\u001b[0m\u001b[0;34m:\u001b[0m\u001b[0;34m\u001b[0m\u001b[0;34m\u001b[0m\u001b[0m\n\u001b[0;32m----> 8\u001b[0;31m         \u001b[0mR\u001b[0m\u001b[0;34m[\u001b[0m\u001b[0;34m:\u001b[0m\u001b[0;34m,\u001b[0m\u001b[0;34m:\u001b[0m\u001b[0;34m,\u001b[0m\u001b[0mindex\u001b[0m\u001b[0;34m]\u001b[0m\u001b[0;34m=\u001b[0m\u001b[0mnp\u001b[0m\u001b[0;34m.\u001b[0m\u001b[0mloadtxt\u001b[0m\u001b[0;34m(\u001b[0m\u001b[0;34m\"%s/R_py.txt\"\u001b[0m \u001b[0;34m%\u001b[0m \u001b[0;34m(\u001b[0m\u001b[0msubj\u001b[0m\u001b[0;34m,\u001b[0m\u001b[0;34m)\u001b[0m\u001b[0;34m)\u001b[0m\u001b[0;34m\u001b[0m\u001b[0;34m\u001b[0m\u001b[0m\n\u001b[0m\u001b[1;32m      9\u001b[0m         \u001b[0mPR\u001b[0m\u001b[0;34m[\u001b[0m\u001b[0;34m:\u001b[0m\u001b[0;34m,\u001b[0m\u001b[0;34m:\u001b[0m\u001b[0;34m,\u001b[0m\u001b[0mindex\u001b[0m\u001b[0;34m]\u001b[0m\u001b[0;34m=\u001b[0m\u001b[0mnp\u001b[0m\u001b[0;34m.\u001b[0m\u001b[0mloadtxt\u001b[0m\u001b[0;34m(\u001b[0m\u001b[0;34m\"%s/PR_py.txt\"\u001b[0m \u001b[0;34m%\u001b[0m \u001b[0;34m(\u001b[0m\u001b[0msubj\u001b[0m\u001b[0;34m,\u001b[0m\u001b[0;34m)\u001b[0m\u001b[0;34m)\u001b[0m\u001b[0;34m\u001b[0m\u001b[0;34m\u001b[0m\u001b[0m\n\u001b[1;32m     10\u001b[0m         \u001b[0mindex\u001b[0m \u001b[0;34m+=\u001b[0m \u001b[0;36m1\u001b[0m\u001b[0;34m\u001b[0m\u001b[0;34m\u001b[0m\u001b[0m\n",
      "\u001b[0;32m~/anaconda3/lib/python3.7/site-packages/numpy/lib/npyio.py\u001b[0m in \u001b[0;36mloadtxt\u001b[0;34m(fname, dtype, comments, delimiter, converters, skiprows, usecols, unpack, ndmin, encoding, max_rows)\u001b[0m\n\u001b[1;32m    979\u001b[0m             \u001b[0mfname\u001b[0m \u001b[0;34m=\u001b[0m \u001b[0mos_fspath\u001b[0m\u001b[0;34m(\u001b[0m\u001b[0mfname\u001b[0m\u001b[0;34m)\u001b[0m\u001b[0;34m\u001b[0m\u001b[0;34m\u001b[0m\u001b[0m\n\u001b[1;32m    980\u001b[0m         \u001b[0;32mif\u001b[0m \u001b[0m_is_string_like\u001b[0m\u001b[0;34m(\u001b[0m\u001b[0mfname\u001b[0m\u001b[0;34m)\u001b[0m\u001b[0;34m:\u001b[0m\u001b[0;34m\u001b[0m\u001b[0;34m\u001b[0m\u001b[0m\n\u001b[0;32m--> 981\u001b[0;31m             \u001b[0mfh\u001b[0m \u001b[0;34m=\u001b[0m \u001b[0mnp\u001b[0m\u001b[0;34m.\u001b[0m\u001b[0mlib\u001b[0m\u001b[0;34m.\u001b[0m\u001b[0m_datasource\u001b[0m\u001b[0;34m.\u001b[0m\u001b[0mopen\u001b[0m\u001b[0;34m(\u001b[0m\u001b[0mfname\u001b[0m\u001b[0;34m,\u001b[0m \u001b[0;34m'rt'\u001b[0m\u001b[0;34m,\u001b[0m \u001b[0mencoding\u001b[0m\u001b[0;34m=\u001b[0m\u001b[0mencoding\u001b[0m\u001b[0;34m)\u001b[0m\u001b[0;34m\u001b[0m\u001b[0;34m\u001b[0m\u001b[0m\n\u001b[0m\u001b[1;32m    982\u001b[0m             \u001b[0mfencoding\u001b[0m \u001b[0;34m=\u001b[0m \u001b[0mgetattr\u001b[0m\u001b[0;34m(\u001b[0m\u001b[0mfh\u001b[0m\u001b[0;34m,\u001b[0m \u001b[0;34m'encoding'\u001b[0m\u001b[0;34m,\u001b[0m \u001b[0;34m'latin1'\u001b[0m\u001b[0;34m)\u001b[0m\u001b[0;34m\u001b[0m\u001b[0;34m\u001b[0m\u001b[0m\n\u001b[1;32m    983\u001b[0m             \u001b[0mfh\u001b[0m \u001b[0;34m=\u001b[0m \u001b[0miter\u001b[0m\u001b[0;34m(\u001b[0m\u001b[0mfh\u001b[0m\u001b[0;34m)\u001b[0m\u001b[0;34m\u001b[0m\u001b[0;34m\u001b[0m\u001b[0m\n",
      "\u001b[0;32m~/anaconda3/lib/python3.7/site-packages/numpy/lib/_datasource.py\u001b[0m in \u001b[0;36mopen\u001b[0;34m(path, mode, destpath, encoding, newline)\u001b[0m\n\u001b[1;32m    267\u001b[0m \u001b[0;34m\u001b[0m\u001b[0m\n\u001b[1;32m    268\u001b[0m     \u001b[0mds\u001b[0m \u001b[0;34m=\u001b[0m \u001b[0mDataSource\u001b[0m\u001b[0;34m(\u001b[0m\u001b[0mdestpath\u001b[0m\u001b[0;34m)\u001b[0m\u001b[0;34m\u001b[0m\u001b[0;34m\u001b[0m\u001b[0m\n\u001b[0;32m--> 269\u001b[0;31m     \u001b[0;32mreturn\u001b[0m \u001b[0mds\u001b[0m\u001b[0;34m.\u001b[0m\u001b[0mopen\u001b[0m\u001b[0;34m(\u001b[0m\u001b[0mpath\u001b[0m\u001b[0;34m,\u001b[0m \u001b[0mmode\u001b[0m\u001b[0;34m,\u001b[0m \u001b[0mencoding\u001b[0m\u001b[0;34m=\u001b[0m\u001b[0mencoding\u001b[0m\u001b[0;34m,\u001b[0m \u001b[0mnewline\u001b[0m\u001b[0;34m=\u001b[0m\u001b[0mnewline\u001b[0m\u001b[0;34m)\u001b[0m\u001b[0;34m\u001b[0m\u001b[0;34m\u001b[0m\u001b[0m\n\u001b[0m\u001b[1;32m    270\u001b[0m \u001b[0;34m\u001b[0m\u001b[0m\n\u001b[1;32m    271\u001b[0m \u001b[0;34m\u001b[0m\u001b[0m\n",
      "\u001b[0;32m~/anaconda3/lib/python3.7/site-packages/numpy/lib/_datasource.py\u001b[0m in \u001b[0;36mopen\u001b[0;34m(self, path, mode, encoding, newline)\u001b[0m\n\u001b[1;32m    621\u001b[0m                                       encoding=encoding, newline=newline)\n\u001b[1;32m    622\u001b[0m         \u001b[0;32melse\u001b[0m\u001b[0;34m:\u001b[0m\u001b[0;34m\u001b[0m\u001b[0;34m\u001b[0m\u001b[0m\n\u001b[0;32m--> 623\u001b[0;31m             \u001b[0;32mraise\u001b[0m \u001b[0mIOError\u001b[0m\u001b[0;34m(\u001b[0m\u001b[0;34m\"%s not found.\"\u001b[0m \u001b[0;34m%\u001b[0m \u001b[0mpath\u001b[0m\u001b[0;34m)\u001b[0m\u001b[0;34m\u001b[0m\u001b[0;34m\u001b[0m\u001b[0m\n\u001b[0m\u001b[1;32m    624\u001b[0m \u001b[0;34m\u001b[0m\u001b[0m\n\u001b[1;32m    625\u001b[0m \u001b[0;34m\u001b[0m\u001b[0m\n",
      "\u001b[0;31mOSError\u001b[0m: sub-001/R_py.txt not found."
     ]
    }
   ],
   "source": [
    "R = np.zeros((264, 264, 61))\n",
    "PR = np.zeros((264, 264, 61))\n",
    "\n",
    "index = 0\n",
    "for ii in range(1, 63):\n",
    "    subj = \"sub-%03d\" % (ii,)\n",
    "    if ii != 8:\n",
    "        R[:,:,index]=np.loadtxt(\"../rsfmri/%s/R_py.txt\" % (subj,))\n",
    "        PR[:,:,index]=np.loadtxt(\"../rsfmri/%s/PR_py.txt\" % (subj,))\n",
    "        index += 1\n"
   ]
  },
  {
   "cell_type": "code",
   "execution_count": null,
   "metadata": {},
   "outputs": [],
   "source": [
    "fig, axs = plt.subplots(1, 3, figsize=(6, 3), gridspec_kw={'width_ratios': [20, 20, 1]})\n",
    "mR = np.mean(R, 2)\n",
    "mPR = np.mean(PR, 2)\n",
    "\n",
    "for ii in range(264):\n",
    "    mR[ii,ii] = 0\n",
    "    mPR[ii,ii] = 0\n",
    "\n",
    "im = axs[0].imshow(mR, vmin=-1, vmax=1, cmap=\"RdBu_r\")\n",
    "axs[0].set_title(\"(A) Correlations\")\n",
    "fig.colorbar(im, cax=axs[2])\n",
    "axs[1].imshow(mPR, vmin=-0.25, vmax=0.25, cmap=\"RdBu_r\")\n",
    "axs[1].set_title(\"(B) Partial Correlations\")\n",
    "#axs[2].set_visible(False)\n",
    "plt.tight_layout()\n",
    "plt.savefig(\"connectomes.png\")"
   ]
  },
  {
   "cell_type": "markdown",
   "metadata": {},
   "source": [
    "## MLAT-5\n",
    "\n",
    "We will start with the connectome identified by the "
   ]
  },
  {
   "cell_type": "code",
   "execution_count": null,
   "metadata": {},
   "outputs": [],
   "source": [
    "mlat5 = pd.read_csv(\"mlat5.csv\")\n",
    "mlat5"
   ]
  },
  {
   "cell_type": "markdown",
   "metadata": {},
   "source": [
    "From this data file, we first need to extract the different ROI IDs, which are numbers 1-256 in the Powell 2011 data."
   ]
  },
  {
   "cell_type": "code",
   "execution_count": null,
   "metadata": {},
   "outputs": [],
   "source": [
    "ROIs = []\n",
    "for c in mlat5['connection']:\n",
    "    roi1, roi2 = c.split(\"-\")\n",
    "    \n",
    "    if int(roi1) not in ROIs:\n",
    "        ROIs.append(int(roi1))\n",
    "    if int(roi2) not in ROIs:\n",
    "        ROIs.append(int(roi2))\n",
    "ROIs.sort()\n",
    "ROIs"
   ]
  },
  {
   "cell_type": "markdown",
   "metadata": {},
   "source": [
    "We then extract the subset of Power 2011 regions that are contained in this connectome, and count the number of ROIs. The number of ROIs, `N`, will be used to create an $N \\times N$ matrix."
   ]
  },
  {
   "cell_type": "code",
   "execution_count": null,
   "metadata": {},
   "outputs": [],
   "source": [
    "sub = power2011[power2011['ROI'].isin( ROIs)]\n",
    "N = len(sub['ROI'])"
   ]
  },
  {
   "cell_type": "markdown",
   "metadata": {},
   "source": [
    "### Create the Connectome Matrix and Node Coordintes\n",
    "\n",
    "First, we need to create a connectome matrix"
   ]
  },
  {
   "cell_type": "code",
   "execution_count": null,
   "metadata": {},
   "outputs": [],
   "source": [
    "connectome = np.zeros((N, N))\n",
    "for c in range(N):\n",
    "    for r in range(N):\n",
    "        roi1 = ROIs[c]\n",
    "        roi2 = ROIs[r]\n",
    "        conn_name = \"%d-%d\" % (min(roi1, roi2), max(roi1, roi2))\n",
    "        entry = mlat5.loc[mlat5['connection'] == conn_name]\n",
    "\n",
    "        if len(entry) == 1:\n",
    "            beta=float(entry['Beta'])\n",
    "            connectome[c,r] = beta\n",
    "            \n",
    "plt.imshow(connectome)\n",
    "plt.title(\"Connectome (Beta values)\")\n",
    "plt.show()"
   ]
  },
  {
   "cell_type": "markdown",
   "metadata": {},
   "source": [
    "Then, we need to create the corresponding list of x, y, z coordinates"
   ]
  },
  {
   "cell_type": "code",
   "execution_count": null,
   "metadata": {},
   "outputs": [],
   "source": [
    "xyz = []\n",
    "sub.loc[:,['X', 'Y', 'Z']]\n",
    "for roi in ROIs:\n",
    "    entry = sub.loc[sub['ROI'] == roi]\n",
    "    x = int(entry['X'])\n",
    "    y = int(entry['Y'])\n",
    "    z = int(entry['Z'])\n",
    "    xyz.append((x,y,z))\n",
    "coords = np.array(xyz)"
   ]
  },
  {
   "cell_type": "markdown",
   "metadata": {},
   "source": [
    "And we select colors for each ROI using Power (2011)'s recommendations:"
   ]
  },
  {
   "cell_type": "code",
   "execution_count": null,
   "metadata": {},
   "outputs": [],
   "source": [
    "colors = []\n",
    "sub.loc[:,['Color']]\n",
    "for roi in ROIs:\n",
    "    entry = sub.loc[sub['ROI'] == roi]\n",
    "    #col = entry['Color']\n",
    "    col = entry.iloc[0,5]\n",
    "    colors.append(col.lower())\n",
    "colors"
   ]
  },
  {
   "cell_type": "markdown",
   "metadata": {},
   "source": [
    "### Plotting the Connectomes\n",
    "\n",
    "Then, with all the data structures available, we can finally visualize the data."
   ]
  },
  {
   "cell_type": "code",
   "execution_count": null,
   "metadata": {},
   "outputs": [],
   "source": [
    "nip.view_connectome(adjacency_matrix=connectome,\n",
    "                   node_coords=coords)"
   ]
  },
  {
   "cell_type": "markdown",
   "metadata": {},
   "source": [
    "And now, the \"glass brain\" view"
   ]
  },
  {
   "cell_type": "code",
   "execution_count": null,
   "metadata": {},
   "outputs": [],
   "source": [
    "nip.plot_connectome(connectome, coords, colorbar=True,\n",
    "                    title=\"Predictors of MLAT-5\", black_bg=True, node_color=colors)\n",
    "#plt.legend(labels=[\"Retrieval\", \"FPN\"], loc=\"lower center\")\n",
    "plt.savefig(\"mlat5_predictors.png\")\n",
    "nip.show()"
   ]
  },
  {
   "cell_type": "markdown",
   "metadata": {},
   "source": [
    "And, finally, the \"ROI importance\" view."
   ]
  },
  {
   "cell_type": "code",
   "execution_count": null,
   "metadata": {},
   "outputs": [],
   "source": [
    "nip.plot_connectome_strength(connectome, coords,\n",
    "                    title=\"Importance of ROIs in MLAT-5\")\n",
    "plt.savefig(\"mlat5_importance.png\")\n",
    "nip.show()"
   ]
  },
  {
   "cell_type": "markdown",
   "metadata": {},
   "source": [
    "### Creating a generic function\n",
    "\n",
    "Here we assemble all of the steps above into a single function."
   ]
  },
  {
   "cell_type": "code",
   "execution_count": null,
   "metadata": {},
   "outputs": [],
   "source": [
    "### Create a Handy Function\n",
    "\n",
    "def connectome_visualization(variable, name=None, blackbg=True):\n",
    "    if name is None:\n",
    "        name = variable\n",
    "    # Load the data\n",
    "    data = pd.read_csv(\"%s.csv\" % (variable,))\n",
    "    \n",
    "    # Extract Regions\n",
    "    ROIs = []\n",
    "\n",
    "    for c in data['connection']:\n",
    "        roi1, roi2 = c.split(\"-\")\n",
    "\n",
    "        if int(roi1) not in ROIs:\n",
    "            ROIs.append(int(roi1))\n",
    "        if int(roi2) not in ROIs:\n",
    "            ROIs.append(int(roi2))\n",
    "    ROIs.sort()\n",
    "\n",
    "    # Extra ROI data\n",
    "    sub = power2011[power2011['ROI'].isin( ROIs)]\n",
    "    N = len(sub['ROI'])\n",
    "    connectome = np.zeros((N, N))\n",
    "    for c in range(N):\n",
    "        for r in range(N):\n",
    "            roi1 = ROIs[c]\n",
    "            roi2 = ROIs[r]\n",
    "            conn_name = \"%d-%d\" % (min(roi1, roi2), max(roi1, roi2))\n",
    "            entry = data.loc[data['connection'] == conn_name]\n",
    "            if len(entry) == 1:\n",
    "                beta=float(entry['Beta'])\n",
    "                connectome[c,r] = beta\n",
    "            \n",
    "    plt.imshow(connectome)\n",
    "    plt.title(\"Connectome (Beta values)\")\n",
    "    plt.show()\n",
    "\n",
    "    xyz = []\n",
    "    sub.loc[:,['X', 'Y', 'Z']]\n",
    "    for roi in ROIs:\n",
    "        entry = sub.loc[sub['ROI'] == roi]\n",
    "        x = int(entry['X'])\n",
    "        y = int(entry['Y'])\n",
    "        z = int(entry['Z'])\n",
    "        xyz.append((x,y,z))\n",
    "    coords = np.array(xyz)\n",
    "\n",
    "    colors = []\n",
    "    sub.loc[:,['Color']]\n",
    "    for roi in ROIs:\n",
    "        entry = sub.loc[sub['ROI'] == roi]\n",
    "        #col = entry['Color']\n",
    "        col = entry.iloc[0,5]\n",
    "        colors.append(col.lower())\n",
    "\n",
    "    nip.plot_connectome(connectome, coords, colorbar=True,\n",
    "                    title=r\"Predictors of %s\" % (name,), \n",
    "                    black_bg=blackbg, node_color=colors)\n",
    "    plt.savefig(\"%s.png\" % (variable,))\n",
    "    nip.show()\n",
    "\n",
    "    nip.plot_connectome_strength(connectome, coords,\n",
    "                                 title=r\"Importance of ROIs in %s\" % (name,))\n",
    "    plt.savefig(\"%s_importance.png\" % (variable,))\n",
    "    nip.show()\n",
    "    \n",
    "    return connectome, coords, colors"
   ]
  },
  {
   "cell_type": "markdown",
   "metadata": {},
   "source": [
    "## Symmetry Span"
   ]
  },
  {
   "cell_type": "code",
   "execution_count": null,
   "metadata": {},
   "outputs": [],
   "source": [
    "c, nc, cols = connectome_visualization(\"symmetryspan\", name=r\"Symmetry Span\")\n",
    "nip.view_connectome(adjacency_matrix=connectome,\n",
    "                       node_coords=coords, colorbar_fontsize=10)"
   ]
  },
  {
   "cell_type": "markdown",
   "metadata": {},
   "source": [
    "## Rate of Forgetting $\\alpha$\n",
    "\n",
    "We use the new function to plot a different variable, the Rate of Forgetting $\\alpha$."
   ]
  },
  {
   "cell_type": "code",
   "execution_count": null,
   "metadata": {},
   "outputs": [],
   "source": [
    "c, nc, cols = connectome_visualization(\"alpha3\", name=r\"Rate of Forgetting $\\alpha$\", blackbg=False)\n",
    "nip.view_connectome(c, nc, colorbar_fontsize=8)"
   ]
  },
  {
   "cell_type": "code",
   "execution_count": null,
   "metadata": {},
   "outputs": [],
   "source": [
    "pc = np.zeros((264, 264))\n",
    "pcol = [x.lower() for x in list(power2011['Color'])]\n",
    "def colortranslate(x):\n",
    "    if x.lower() == \"yellow\":\n",
    "        return \"gold\"\n",
    "    elif x.lower() == \"pale blue\":\n",
    "        return \"skyblue\"\n",
    "    elif x.lower() == \"white\":\n",
    "        return \"gainsboro\"\n",
    "    else:\n",
    "        return x\n",
    "    \n",
    "pcol = [colortranslate(x) for x in pcol]\n",
    "xyz = []\n",
    "for roi in list(power2011['ROI']):\n",
    "    entry = power2011.loc[power2011['ROI'] == roi]\n",
    "    x = int(entry['X'])\n",
    "    y = int(entry['Y'])\n",
    "    z = int(entry['Z'])\n",
    "    xyz.append((x,y,z))\n",
    "pcoords = np.array(xyz)\n",
    "\n",
    "\n",
    "nip.plot_connectome(pc, pcoords, node_color=pcol, display_mode='lzr')"
   ]
  },
  {
   "cell_type": "code",
   "execution_count": null,
   "metadata": {},
   "outputs": [],
   "source": [
    "# Test\n",
    "from matplotlib.lines import Line2D\n",
    "from matplotlib.patches import Patch\n",
    "fig, axs = plt.subplots(1,1, figsize=(7,5))\n",
    "nip.plot_connectome(pc, pcoords, node_color=pcol, display_mode='lzr', axes=axs)\n",
    "\n",
    "allkols=list(power2011['Color'])\n",
    "allnets=list(power2011['NetworkName'])\n",
    "\n",
    "kols=[]\n",
    "nets=[]\n",
    "for i in range(len(allkols)):\n",
    "    if not allkols[i] in kols:\n",
    "        kols.append(allkols[i])\n",
    "        nets.append(allnets[i])\n",
    "\n",
    "handles = [Line2D([0], [0], marker='o', markerfacecolor=x, color=\"w\", markersize=10) for x in [colortranslate(x) for x in kols]]\n",
    "\n",
    "fig.legend(handles, nets, loc=\"lower center\", ncol=2)"
   ]
  },
  {
   "cell_type": "code",
   "execution_count": null,
   "metadata": {},
   "outputs": [],
   "source": [
    "nip.plot_connectome(c, nc, [colortranslate(x) for x in cols], edge_cmap=\"RdYlBu_r\", display_mode=\"lzr\", colorbar=True, edge_vmax=0.03, edge_vmin=-0.03)\n",
    "nip.plot_connectome_strength(c, nc, cmap=\"Reds\", display_mode=\"lzr\")"
   ]
  }
 ],
 "metadata": {
  "kernelspec": {
   "display_name": "Python 3",
   "language": "python",
   "name": "python3"
  },
  "language_info": {
   "codemirror_mode": {
    "name": "ipython",
    "version": 3
   },
   "file_extension": ".py",
   "mimetype": "text/x-python",
   "name": "python",
   "nbconvert_exporter": "python",
   "pygments_lexer": "ipython3",
   "version": "3.7.10"
  }
 },
 "nbformat": 4,
 "nbformat_minor": 4
}
